{
 "cells": [
  {
   "cell_type": "markdown",
   "id": "7f9d2bd1",
   "metadata": {},
   "source": [
    "# Lock-in: Control y adquisición de señales"
   ]
  },
  {
   "cell_type": "code",
   "execution_count": 1,
   "id": "114fa634",
   "metadata": {},
   "outputs": [],
   "source": [
    "#Generación de gráficas y .csv \n",
    "#Datos de referencia: fase, frecuencia y amplitud\n",
    "#Datos de ganacia y constante de tiempo: sensibilidad y constante de tiempo\n",
    "#Datos de display y output: Elección de canal (CH1), Display: R / CH2: Theta"
   ]
  },
  {
   "cell_type": "code",
   "execution_count": 2,
   "id": "57e209c2",
   "metadata": {},
   "outputs": [],
   "source": [
    "import pyvisa\n",
    "import time\n",
    "import numpy as np\n",
    "import csv\n",
    "import time"
   ]
  },
  {
   "cell_type": "code",
   "execution_count": 3,
   "id": "79b37117",
   "metadata": {},
   "outputs": [],
   "source": [
    "def adquirir(q):\n",
    "    lockin.write(q)\n",
    "    data=''\n",
    "    try:\n",
    "        while True:\n",
    "            b=lockin.read_bytes(1)\n",
    "            data=data+str(b)\n",
    "    except:\n",
    "       # print('Lectura terminada')\n",
    "        pass\n",
    "    data=data.replace('b','')\n",
    "    data=data.replace('\\'','')\n",
    "    data=data.replace(r'\\r','')\n",
    "    data=float(data)\n",
    "    return data"
   ]
  },
  {
   "cell_type": "code",
   "execution_count": 4,
   "id": "cc4ea1e1",
   "metadata": {},
   "outputs": [
    {
     "name": "stdout",
     "output_type": "stream",
     "text": [
      "('ASRL1::INSTR',)\n"
     ]
    }
   ],
   "source": [
    "rm = pyvisa.ResourceManager()\n",
    "print(rm.list_resources())\n",
    "lockin = rm.open_resource('ASRL1::INSTR', timeout=100)"
   ]
  },
  {
   "cell_type": "markdown",
   "id": "01c3496c",
   "metadata": {},
   "source": [
    "Datos de entrada"
   ]
  },
  {
   "cell_type": "code",
   "execution_count": 7,
   "id": "b805073f",
   "metadata": {},
   "outputs": [],
   "source": [
    "n = 5\n",
    "tiempo_estabilizacion=300\n",
    "n_barridos = 1\n",
    "lista_freq = [1, 10, 100]\n",
    "# Ajustar Fase de Referencia\n",
    "lockin.write(\"PHAS {}\".format(0))\n",
    "time.sleep(0.2)\n",
    "# Ajustar Amplitud de Referencia\n",
    "lockin.write(\"SLVL {}\".format(4.24))\n",
    "time.sleep(1)\n",
    "# Ajustar Constante de tiempo a 1 s\n",
    "lockin.write(\"OELT {}\".format(10))\n",
    "time.sleep(1)\n",
    "# Ajustar Sensibilidad a 50 mV/nA\n",
    "#lockin.write(\"SENS {}\".format(22))"
   ]
  },
  {
   "cell_type": "markdown",
   "id": "ee08df27",
   "metadata": {},
   "source": [
    "Realizar n barridos de captura de datos"
   ]
  },
  {
   "cell_type": "code",
   "execution_count": 8,
   "id": "a010c522",
   "metadata": {},
   "outputs": [
    {
     "name": "stdout",
     "output_type": "stream",
     "text": [
      "barrido 1\n",
      "freq 1\n",
      "freq 10\n",
      "freq 100\n"
     ]
    }
   ],
   "source": [
    "for barrido in range(1, n_barridos+1):\n",
    "    start_time = time.time()\n",
    "    print('barrido ' + str(barrido))\n",
    "    # Para cada frecuencia, tomar n muestras\n",
    "    # para cada frecuencia en la lista de frecuencias\n",
    "    tabla_muestras=[]\n",
    "    for freq in lista_freq:\n",
    "        print('freq ' + str(freq))\n",
    "        #Ajustar frecuencia de referencia\n",
    "        lockin.write(\"FREQ {}\".format(freq))\n",
    "        time.sleep(tiempo_estabilizacion)\n",
    "        lista_muestras=[]\n",
    "        lista_muestras.append(freq)\n",
    "        # repetir n veces\n",
    "        for i in range(n):\n",
    "            # adquirir muestra y asignarlo en R y theta\n",
    "            R = adquirir ('OUTP? 3')\n",
    "            # print('R: ' + str(R))\n",
    "            time.sleep(1)\n",
    "            lista_muestras.append(R)\n",
    "            theta = adquirir ('OUTP? 4')\n",
    "            # print('Theta: ' + str(theta))\n",
    "            time.sleep(1)\n",
    "            lista_muestras.append(theta)\n",
    "        tabla_muestras.append(lista_muestras) \n",
    "        duracion_barrido= time.time() - start_time\n",
    "    with open(\"Prueba-1-1\" + str(barrido) + \"-\" +str(duracion_barrido) + \".csv\", \"w\", newline='') as f:\n",
    "        writer = csv.writer(f)\n",
    "        writer.writerows(tabla_muestras)"
   ]
  },
  {
   "cell_type": "code",
   "execution_count": 45,
   "id": "d6d8e27f",
   "metadata": {},
   "outputs": [],
   "source": [
    "import os"
   ]
  },
  {
   "cell_type": "code",
   "execution_count": 46,
   "id": "54b8b5c3",
   "metadata": {},
   "outputs": [
    {
     "data": {
      "text/plain": [
       "'C:\\\\Users\\\\khemi\\\\Lock-in Control\\\\SR830_LockInAmplifier'"
      ]
     },
     "execution_count": 46,
     "metadata": {},
     "output_type": "execute_result"
    }
   ],
   "source": [
    "os.getcwd()"
   ]
  }
 ],
 "metadata": {
  "kernelspec": {
   "display_name": "Python 3",
   "language": "python",
   "name": "python3"
  },
  "language_info": {
   "codemirror_mode": {
    "name": "ipython",
    "version": 3
   },
   "file_extension": ".py",
   "mimetype": "text/x-python",
   "name": "python",
   "nbconvert_exporter": "python",
   "pygments_lexer": "ipython3",
   "version": "3.7.10"
  }
 },
 "nbformat": 4,
 "nbformat_minor": 5
}
